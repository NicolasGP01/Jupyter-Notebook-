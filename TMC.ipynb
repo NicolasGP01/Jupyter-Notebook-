{
  "nbformat": 4,
  "nbformat_minor": 0,
  "metadata": {
    "colab": {
      "name": "TMC.ipynb",
      "provenance": [],
      "authorship_tag": "ABX9TyMsIO65nmXFL0KFV70p6R6Y",
      "include_colab_link": true
    },
    "kernelspec": {
      "name": "python3",
      "display_name": "Python 3"
    },
    "language_info": {
      "name": "python"
    },
    "accelerator": "GPU"
  },
  "cells": [
    {
      "cell_type": "markdown",
      "metadata": {
        "id": "view-in-github",
        "colab_type": "text"
      },
      "source": [
        "<a href=\"https://colab.research.google.com/github/NicolasGP01/Jupyter-Notebook-/blob/main/TMC.ipynb\" target=\"_parent\"><img src=\"https://colab.research.google.com/assets/colab-badge.svg\" alt=\"Open In Colab\"/></a>"
      ]
    },
    {
      "cell_type": "markdown",
      "source": [
        "# **Trabajo de grado**"
      ],
      "metadata": {
        "id": "eDODXIe92Gmj"
      }
    },
    {
      "cell_type": "code",
      "execution_count": null,
      "metadata": {
        "id": "SlzBM7Ko1vyz"
      },
      "outputs": [],
      "source": [
        "import pandas as pd"
      ]
    },
    {
      "cell_type": "code",
      "source": [
        "import numpy as np"
      ],
      "metadata": {
        "id": "s075wC-w8L9W"
      },
      "execution_count": null,
      "outputs": []
    },
    {
      "cell_type": "code",
      "source": [
        "### CLONE THE REPOSITORY\n",
        "! git clone https://github.com/NicolasGP01/Trabajo-de-Grado.git"
      ],
      "metadata": {
        "id": "1rcMc5w91-bW"
      },
      "execution_count": null,
      "outputs": []
    },
    {
      "cell_type": "code",
      "source": [
        "## LISTA DE LO QUE TENGO\n",
        "!ls"
      ],
      "metadata": {
        "colab": {
          "base_uri": "https://localhost:8080/"
        },
        "id": "vc9-5iqqF08l",
        "outputId": "1a22b7e7-8849-4730-b023-d7f9d3419071"
      },
      "execution_count": null,
      "outputs": [
        {
          "output_type": "stream",
          "name": "stdout",
          "text": [
            "'Base de datos_.xlsx'   BASE.xlsx\n"
          ]
        }
      ]
    },
    {
      "cell_type": "code",
      "source": [
        "BASE = pd.read_excel(\"/content/Trabajo-de-Grado/Bases de datos/Base de datos_.xlsx\", sheet_name=0, header=0, names=None )"
      ],
      "metadata": {
        "id": "l1TLJJEq2PGG"
      },
      "execution_count": null,
      "outputs": []
    },
    {
      "cell_type": "code",
      "source": [
        "## MIRO LAS 15 PRIMERAS FILAS ( PYTHON POR DEFAULT ENUMERA LA PRIMERA FILA CON 0)\n",
        "BASE.head( 15 )"
      ],
      "metadata": {
        "id": "L_4cKLld2iH0"
      },
      "execution_count": null,
      "outputs": []
    },
    {
      "cell_type": "code",
      "source": [
        "### MIRO EL TYPO DE OBJETO\n",
        "type(BASE)"
      ],
      "metadata": {
        "id": "aTMcUbWp5x45"
      },
      "execution_count": null,
      "outputs": []
    },
    {
      "cell_type": "code",
      "source": [
        "### DESCRIPCIÓN DE LA BASE\n",
        "BASE.info()"
      ],
      "metadata": {
        "id": "V3FoH9wC_6Aj"
      },
      "execution_count": null,
      "outputs": []
    },
    {
      "cell_type": "code",
      "source": [
        "### SUMMARY STYLE TYPE PANEL\n",
        "BASE.describe(exclude=[np.number])"
      ],
      "metadata": {
        "id": "IJuePdT47b3U"
      },
      "execution_count": null,
      "outputs": []
    },
    {
      "cell_type": "code",
      "source": [
        "### MIRO LOS RESUMENES DE NA\n",
        "BASE.isnull().sum()"
      ],
      "metadata": {
        "id": "NKdZz-xM6nyU"
      },
      "execution_count": null,
      "outputs": []
    },
    {
      "cell_type": "code",
      "source": [
        "\n",
        "BASE_2 = BASE\n",
        "\n",
        "#df.columns=['a','b','c','d','e']"
      ],
      "metadata": {
        "id": "bhy7x5Qq3IfR"
      },
      "execution_count": null,
      "outputs": []
    },
    {
      "cell_type": "code",
      "source": [
        "### MIRO LAS COLUMNAS \n",
        "BASE.columns"
      ],
      "metadata": {
        "id": "4Yhna4Dg38Qq"
      },
      "execution_count": null,
      "outputs": []
    },
    {
      "cell_type": "code",
      "source": [
        "list(BASE.columns) ## LO MISMO PERO EN LISTA"
      ],
      "metadata": {
        "id": "QAQ7qMDq4GLm"
      },
      "execution_count": null,
      "outputs": []
    },
    {
      "cell_type": "code",
      "source": [
        "### MIRO LAS COLOMNAS EN UN FOR PARA VERLAS EN UNA SOLA \n",
        "for col in BASE.columns:\n",
        "    print(col)"
      ],
      "metadata": {
        "id": "gxxA58cz318J"
      },
      "execution_count": null,
      "outputs": []
    },
    {
      "cell_type": "code",
      "source": [
        "### SI LO QUIERO ORDENADO LOS NOMBRE\n",
        "sorted(BASE)"
      ],
      "metadata": {
        "id": "T49VoGft6HGR"
      },
      "execution_count": null,
      "outputs": []
    },
    {
      "cell_type": "code",
      "source": [
        "### RENOMBRO :: http://www.danielmsullivan.com/pages/tutorial_stata_to_python.html?s=08#data-info-and-summary-statistics\n",
        "BASE = BASE.rename(columns={'id': 'COD_DANE'})"
      ],
      "metadata": {
        "id": "HNOZrPCLAjo9"
      },
      "execution_count": null,
      "outputs": []
    },
    {
      "cell_type": "code",
      "source": [
        "import os\n",
        "os.chdir('/content/Trabajo-de-Grado/Bases de datos') ### CON ESTO ESTABLESCO UN DIRECTORIO\n",
        "\n",
        "BASE.to_excel('BASE.xlsx') ### GUARDO DONDE HAYA ESTABLECIDO EL DIRECTORIO"
      ],
      "metadata": {
        "id": "7cz6f3nYCAQP"
      },
      "execution_count": null,
      "outputs": []
    },
    {
      "cell_type": "code",
      "source": [
        "## EN QUE CARPETA ESTOY\n",
        "!pwd\n",
        "## SI QUIERO IR A LA CARPETA GLOBAL : ! cd .."
      ],
      "metadata": {
        "id": "RreGGcX5Fbds"
      },
      "execution_count": null,
      "outputs": []
    }
  ]
}